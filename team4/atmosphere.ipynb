{
 "cells": [
  {
   "cell_type": "code",
   "execution_count": 12,
   "metadata": {},
   "outputs": [
    {
     "data": {
      "application/vnd.jupyter.widget-view+json": {
       "model_id": "6d4f2b656e33411995e13723ceff25c8",
       "version_major": 2,
       "version_minor": 0
      },
      "text/plain": [
       "Button(description='Draw graph', style=ButtonStyle())"
      ]
     },
     "metadata": {},
     "output_type": "display_data"
    },
    {
     "data": {
      "application/vnd.jupyter.widget-view+json": {
       "model_id": "e270a71b471e4f47a21807d9ccb67c06",
       "version_major": 2,
       "version_minor": 0
      },
      "text/plain": [
       "Dropdown(description='Cities:', options=('Kyiv', 'Odessa', 'Lviv', 'Kharkiv', 'Dnipro', 'Ivano-Frankivsk', 'Ch…"
      ]
     },
     "metadata": {},
     "output_type": "display_data"
    },
    {
     "data": {
      "application/vnd.jupyter.widget-view+json": {
       "model_id": "0058da43c0cc4c3691f768a79463f789",
       "version_major": 2,
       "version_minor": 0
      },
      "text/plain": [
       "Dropdown(description='Available data:', index=1, options=('Wind speed, m/s', 'Temperature, Celsius', 'Humidity…"
      ]
     },
     "metadata": {},
     "output_type": "display_data"
    },
    {
     "data": {
      "application/vnd.jupyter.widget-view+json": {
       "model_id": "a9365596274b4ba389e7b8965d9b20bf",
       "version_major": 2,
       "version_minor": 0
      },
      "text/plain": [
       "Text(value='2019-03-10 22:58:54', description='Date from:', placeholder='Type here')"
      ]
     },
     "metadata": {},
     "output_type": "display_data"
    },
    {
     "data": {
      "application/vnd.jupyter.widget-view+json": {
       "model_id": "5f663086bf3c4ac9b624a65a8b57ea26",
       "version_major": 2,
       "version_minor": 0
      },
      "text/plain": [
       "Text(value='2019-04-02 22:58:54', description='Date to:', placeholder='Type here')"
      ]
     },
     "metadata": {},
     "output_type": "display_data"
    },
    {
     "name": "stdout",
     "output_type": "stream",
     "text": [
      "r.json()\n",
      "[[1554282000, 1554282000, 1554285060, 1554285060, 1554287400, 1554287400, 1554289200, 1554289200, 1554291000, 1554291000, 1554292800, 1554292800, 1554292800, 1554294600, 1554294600, 1554296400, 1554296400, 1554298200, 1554298200, 1554300000, 1554300000, 1554301800, 1554301800, 1554303600, 1554303600, 1554303600, 1554307200, 1554307200, 1554307200, 1554309000, 1554309000, 1554395400, 1554397200], [280.57, 280.56, 281.53, 281.52, 282.02, 282.01, 281.59, 281.58, 282.03, 282.01, 282.03, 282.01, 281.99, 282.01, 281.99, 282.58, 282.57, 281.58, 281.57, 282.15, 282.15, 281.58, 281.57, 281.15, 281.15, 281.15, 279.59, 279.58, 279.57, 278.15, 278.15, 280.15, 279.71]]\n"
     ]
    },
    {
     "data": {
      "image/png": "[encoded data removed]",
      "text/plain": [
       "<Figure size 1296x432 with 1 Axes>"
      ]
     },
     "metadata": {
      "needs_background": "light"
     },
     "output_type": "display_data"
    }
   ],
   "source": [
    "import requests\n",
    "import json\n",
    "import ipywidgets as widgets\n",
    "import pandas as pd\n",
    "import numpy as np\n",
    "import matplotlib.pyplot as plt\n",
    "import ipywidgets as widgets\n",
    "import re\n",
    "from datetime import datetime\n",
    "from pandas.plotting import register_matplotlib_converters\n",
    "\n",
    "register_matplotlib_converters()\n",
    "\n",
    "from IPython.display import clear_output\n",
    "\n",
    "\n",
    "def cities(msg):\n",
    "    citylist = {\"Kyiv\": 709930,\n",
    "                \"Odessa\": 698740,\n",
    "                \"Lviv\": 702550,\n",
    "                \"Kharkiv\": 706483,\n",
    "                \"Dnipro\": 709930,\n",
    "                \"Ivano-Frankivsk\": 707471,\n",
    "                \"Chernivtsi\": 710719,\n",
    "                \"Vinnytsia\": 689558,\n",
    "                \"Kriviy Rih\": 703845,\n",
    "                \"Uzhhorod\": 690548\n",
    "                }\n",
    "    return citylist[msg]\n",
    "\n",
    "\n",
    "def avaibledata(msg):\n",
    "    datalist = {\"Wind speed, m/s\": 'wind.speed',\n",
    "                \"Temperature, Celsius\": 'main.temp',\n",
    "                \"Humidity, %\": 'main.humidity',\n",
    "                \"Clouds, %\": 'clouds.all',\n",
    "                \"Pressure, GPa\": \"main.pressure\"\n",
    "                }\n",
    "    return datalist[msg]\n",
    "\n",
    "def graph(msg, x_time, y_value):\n",
    "    graphlist = {\"Bars\": ax.plot(x_time, y_value),\n",
    "                 \"Plot\": ax.bar(x_time, y_value, width=0.01)\n",
    "                }\n",
    "    graphlist[msg]\n",
    "    plt.xlabel('Time')\n",
    "    plt.ylabel(y_label)\n",
    "    plt.title(\"Simple Plot\")\n",
    "\n",
    "%matplotlib inline\n",
    "\n",
    "button = widgets.Button(description=\"Draw graph\")\n",
    "display(button)\n",
    "out = widgets.Output()\n",
    "city = widgets.Dropdown(\n",
    "    options=[\"Kyiv\", \"Odessa\", \"Lviv\", \"Kharkiv\", \"Dnipro\", \"Ivano-Frankivsk\", \"Chernivtsi\",\n",
    "             \"Vinnytsia\", \"Kriviy Rih\", \"Uzhhorod\"],\n",
    "    value=\"Kyiv\",\n",
    "    description='Cities:',\n",
    "    disabled=False,\n",
    ")\n",
    "\n",
    "type_data = widgets.Dropdown(\n",
    "    options=[\"Wind speed, m/s\", \"Temperature, Celsius\", \"Humidity, %\", \"Clouds, %\", \"Pressure, GPa\"],\n",
    "    value='Temperature, Celsius',\n",
    "    description='Data:',\n",
    "    disabled=False,\n",
    ")\n",
    "\n",
    "date_from = widgets.Text(\n",
    "    value='2019-03-10 22:58:54',\n",
    "    placeholder='Type here',\n",
    "    description='Date from:',\n",
    "    disabled=False\n",
    ")\n",
    "\n",
    "date_to = widgets.Text(\n",
    "    value='2019-04-02 22:58:54',\n",
    "    placeholder='Type here',\n",
    "    description='Date to:',\n",
    "    disabled=False\n",
    ")\n",
    "\n",
    "type_graph = widgets.Dropdown(\n",
    "    options=[\"Bars\", \"Plot\"],\n",
    "    value='Bars',\n",
    "    description='Visualization',\n",
    "    disabled=False,\n",
    ")\n",
    "display(city, type_data, date_from, date_to, type_graph)\n",
    "\n",
    "\n",
    "def click_button(b):\n",
    "    #     with out:\n",
    "    #         clear_output()\n",
    "    #    plt.clf()\n",
    "    city_id = cities(city.value)\n",
    "    arg = {\"req\": 1,\n",
    "           \"id\": city_id,\n",
    "           \"data\": avaibledata(type_data.value),\n",
    "           \"time_min\": date_from.value,\n",
    "           \"time_max\": date_to.value}\n",
    "    r = requests.post('https://us-central1-jupyter2.cloudfunctions.net/function-1', data=json.dumps(arg))\n",
    "\n",
    "    print(\"r.json()\")\n",
    "    print(r.json())\n",
    "\n",
    "    #     fig, axs = plt.subplots(1, 3, figsize=(18, 6), sharey=True)\n",
    "    # dt=datetime.fromtimestamp()\n",
    "\n",
    "    # time_min_conv = datetime.datetime.strptime(arg[\"time_min\"], '%Y-%m-%d %X')\n",
    "    # time_min_unix = time.mktime(time_min_conv.timetuple())\n",
    "\n",
    "    # x_time = r.json()[0]\n",
    "    tempdate = r.json()[0]\n",
    "    x_time = []\n",
    "    for i in tempdate:\n",
    "        x_time.append(datetime.fromtimestamp(i))\n",
    "    # x_time = datetime.time(tempdate)\n",
    "    y_value = r.json()[1]\n",
    "    y_label = str(type_data.value)\n",
    "    if y_label == \"Temperature, Celsius\":\n",
    "        for i in range(len(y_value)):\n",
    "            y_value[i] -= 273\n",
    "\n",
    "    fig, ax = plt.subplots(num=0, figsize=(18, 6), clear=True)\n",
    "    #ax.plot(x_time, y_value)\n",
    "    ax.bar(x_time, y_value, width=0.01)\n",
    "\n",
    "    #plt.xlabel('Time')\n",
    "    #plt.ylabel(y_label)\n",
    "    plt.title(\"Simple Plot\")\n",
    "\n",
    "\n",
    "#     my_plot = r.json().plot(kind='bar')\n",
    "\n",
    "\n",
    "button.on_click(click_button)\n"
   ]
  },
  {
   "cell_type": "code",
   "execution_count": null,
   "metadata": {},
   "outputs": [],
   "source": []
  }
 ],
 "metadata": {
  "kernelspec": {
   "display_name": "Python 3",
   "language": "python",
   "name": "python3"
  },
  "language_info": {
   "codemirror_mode": {
    "name": "ipython",
    "version": 3
   },
   "file_extension": ".py",
   "mimetype": "text/x-python",
   "name": "python",
   "nbconvert_exporter": "python",
   "pygments_lexer": "ipython3",
   "version": "3.7.1"
  }
 },
 "nbformat": 4,
 "nbformat_minor": 2
}
